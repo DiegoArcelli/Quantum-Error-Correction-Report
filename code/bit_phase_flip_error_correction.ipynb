{
 "cells": [
  {
   "cell_type": "markdown",
   "id": "709df550",
   "metadata": {},
   "source": [
    "# Correcting both bit-flip and phase-flip errors\n",
    "\n",
    "This notebook implements the quantum circuit to recover a qubit from both bit flip and phase flip errors, using Shor's 9-quibts encoding."
   ]
  },
  {
   "cell_type": "markdown",
   "id": "3ccee662",
   "metadata": {},
   "source": [
    "## Importing needed modules"
   ]
  },
  {
   "cell_type": "code",
   "execution_count": 4,
   "id": "18ee500a",
   "metadata": {},
   "outputs": [],
   "source": [
    "from qiskit import QuantumRegister, ClassicalRegister, QuantumCircuit\n",
    "from qiskit import execute, Aer"
   ]
  },
  {
   "cell_type": "markdown",
   "id": "e71c143e",
   "metadata": {},
   "source": [
    "## Three qubit encoding\n",
    "\n",
    "Because of the no cloning theorem we cannot copy a qubit to add redundancy like we would do in classical computing. What we can do instead is implementing the following encoding:<br><br>\n",
    "<center>\n",
    "$|\\psi\\rangle =  \\alpha|0\\rangle + \\beta|1\\rangle \\rightarrow \\frac{\\alpha}{\\sqrt{8}}(|000\\rangle + |111\\rangle)^\\otimes 3 + \\frac{\\beta}{\\sqrt{8}}(|000\\rangle - |111\\rangle)^\\otimes 3$\n",
    "</center>\n"
   ]
  },
  {
   "cell_type": "markdown",
   "id": "e7eb59dc",
   "metadata": {},
   "source": [
    "## Inizializing the circuit\n",
    "\n",
    "For the circuit we need three qubits for the econding and two auxiliary qubits that will be used to detect if the bit flip occured and in which qubit."
   ]
  },
  {
   "cell_type": "code",
   "execution_count": 7,
   "id": "5875bfa9",
   "metadata": {},
   "outputs": [
    {
     "ename": "CircuitError",
     "evalue": "'register name \"enc\" already exists'",
     "output_type": "error",
     "traceback": [
      "\u001b[0;31m---------------------------------------------------------------------------\u001b[0m",
      "\u001b[0;31mCircuitError\u001b[0m                              Traceback (most recent call last)",
      "Input \u001b[0;32mIn [7]\u001b[0m, in \u001b[0;36m<cell line: 10>\u001b[0;34m()\u001b[0m\n\u001b[1;32m      8\u001b[0m qc \u001b[38;5;241m=\u001b[39m QuantumCircuit()\n\u001b[1;32m     10\u001b[0m \u001b[38;5;28;01mfor\u001b[39;00m reg \u001b[38;5;129;01min\u001b[39;00m [q_enc_b1, q_anc_b1, q_enc_b2, q_anc_b2, q_enc_b3, q_anc_b3]:\n\u001b[0;32m---> 11\u001b[0m     \u001b[43mqc\u001b[49m\u001b[38;5;241;43m.\u001b[39;49m\u001b[43madd_register\u001b[49m\u001b[43m(\u001b[49m\u001b[43mreg\u001b[49m\u001b[43m)\u001b[49m\n\u001b[1;32m     13\u001b[0m qc\u001b[38;5;241m.\u001b[39mbarrier()\n\u001b[1;32m     14\u001b[0m qc\u001b[38;5;241m.\u001b[39mdraw(output\u001b[38;5;241m=\u001b[39m\u001b[38;5;124m\"\u001b[39m\u001b[38;5;124mmpl\u001b[39m\u001b[38;5;124m\"\u001b[39m)\n",
      "File \u001b[0;32m~/.local/lib/python3.9/site-packages/qiskit/circuit/quantumcircuit.py:1352\u001b[0m, in \u001b[0;36mQuantumCircuit.add_register\u001b[0;34m(self, *regs)\u001b[0m\n\u001b[1;32m   1348\u001b[0m \u001b[38;5;28;01mfor\u001b[39;00m register \u001b[38;5;129;01min\u001b[39;00m regs:\n\u001b[1;32m   1349\u001b[0m     \u001b[38;5;28;01mif\u001b[39;00m \u001b[38;5;28misinstance\u001b[39m(register, Register) \u001b[38;5;129;01mand\u001b[39;00m \u001b[38;5;28many\u001b[39m(\n\u001b[1;32m   1350\u001b[0m         register\u001b[38;5;241m.\u001b[39mname \u001b[38;5;241m==\u001b[39m reg\u001b[38;5;241m.\u001b[39mname \u001b[38;5;28;01mfor\u001b[39;00m reg \u001b[38;5;129;01min\u001b[39;00m \u001b[38;5;28mself\u001b[39m\u001b[38;5;241m.\u001b[39mqregs \u001b[38;5;241m+\u001b[39m \u001b[38;5;28mself\u001b[39m\u001b[38;5;241m.\u001b[39mcregs\n\u001b[1;32m   1351\u001b[0m     ):\n\u001b[0;32m-> 1352\u001b[0m         \u001b[38;5;28;01mraise\u001b[39;00m CircuitError(\u001b[38;5;124m'\u001b[39m\u001b[38;5;124mregister name \u001b[39m\u001b[38;5;124m\"\u001b[39m\u001b[38;5;132;01m%s\u001b[39;00m\u001b[38;5;124m\"\u001b[39m\u001b[38;5;124m already exists\u001b[39m\u001b[38;5;124m'\u001b[39m \u001b[38;5;241m%\u001b[39m register\u001b[38;5;241m.\u001b[39mname)\n\u001b[1;32m   1354\u001b[0m     \u001b[38;5;28;01mif\u001b[39;00m \u001b[38;5;28misinstance\u001b[39m(register, AncillaRegister):\n\u001b[1;32m   1355\u001b[0m         \u001b[38;5;28;01mfor\u001b[39;00m bit \u001b[38;5;129;01min\u001b[39;00m register:\n",
      "\u001b[0;31mCircuitError\u001b[0m: 'register name \"enc\" already exists'"
     ]
    }
   ],
   "source": [
    "q_enc_b1 = QuantumRegister(3, \"enc_block_1\")\n",
    "q_anc_b1 = QuantumRegister(3, \"anc_block_1\")\n",
    "q_enc_b2 = QuantumRegister(3, \"enc_block_1\")\n",
    "q_anc_b2 = QuantumRegister(3, \"anc\")\n",
    "q_enc_b3 = QuantumRegister(3, \"enc\")\n",
    "q_anc_b3 = QuantumRegister(3, \"anc\")\n",
    "\n",
    "qc = QuantumCircuit()\n",
    "\n",
    "for reg in [q_enc_b1, q_anc_b1, q_enc_b2, q_anc_b2, q_enc_b3, q_anc_b3]:\n",
    "    qc.add_register(reg)\n",
    "\n",
    "qc.barrier()\n",
    "qc.draw(output=\"mpl\")"
   ]
  },
  {
   "cell_type": "markdown",
   "id": "aaf73887",
   "metadata": {},
   "source": [
    "## Implementing the encoding\n",
    "\n",
    "The first qubit is the qubit we want to encode is in the first qubit. The initial state is:<br><br>\n",
    "$(\\alpha|0\\rangle + \\beta|1\\rangle)|0\\rangle|0\\rangle =  \\alpha|000\\rangle + \\beta|100\\rangle$\n",
    "<br><br>\n",
    "After the first CNOT gate it becomes:<br><br>\n",
    "$\\alpha|000\\rangle + \\beta|110\\rangle$\n",
    "<br><br>\n",
    "After the second CNOT gate it becomes:<br><br>\n",
    "$\\alpha|000\\rangle + \\beta|111\\rangle$\n",
    "<br><br>\n",
    "which is the encoding we wanted.\n"
   ]
  },
  {
   "cell_type": "code",
   "execution_count": 68,
   "id": "05c5a659",
   "metadata": {},
   "outputs": [
    {
     "data": {
      "image/png": "[encoded data removed]",
      "text/plain": [
       "<Figure size 411.828x445.48 with 1 Axes>"
      ]
     },
     "execution_count": 68,
     "metadata": {},
     "output_type": "execute_result"
    }
   ],
   "source": [
    "qc.cx(qe[0], qe[1])\n",
    "qc.cx(qe[0], qe[2])\n",
    "\n",
    "qc.barrier()\n",
    "\n",
    "qc.draw(output=\"mpl\")"
   ]
  }
 ],
 "metadata": {
  "kernelspec": {
   "display_name": "Python 3 (ipykernel)",
   "language": "python",
   "name": "python3"
  },
  "language_info": {
   "codemirror_mode": {
    "name": "ipython",
    "version": 3
   },
   "file_extension": ".py",
   "mimetype": "text/x-python",
   "name": "python",
   "nbconvert_exporter": "python",
   "pygments_lexer": "ipython3",
   "version": "3.9.7"
  },
  "vscode": {
   "interpreter": {
    "hash": "916dbcbb3f70747c44a77c7bcd40155683ae19c65e1c03b4aa3499c5328201f1"
   }
  }
 },
 "nbformat": 4,
 "nbformat_minor": 5
}
